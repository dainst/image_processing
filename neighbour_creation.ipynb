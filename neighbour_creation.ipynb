{
 "cells": [
  {
   "cell_type": "code",
   "execution_count": 1,
   "metadata": {},
   "outputs": [],
   "source": [
    "import db.mariadb as mariadb\n",
    "\n",
    "con = mariadb.get_connection(\"127.0.0.1\", 3308, \"image_processing\", \"user\", \"user_pw\")\n",
    "\n",
    "compressed_data = mariadb.get_every_nth_file_feature(con, 1)\n",
    "uncompressed_data = mariadb.get_every_nth_file_feature_uncompressed(con, 1)\n",
    "\n",
    "con.close()\n"
   ]
  },
  {
   "cell_type": "code",
   "execution_count": 2,
   "metadata": {},
   "outputs": [
    {
     "name": "stdout",
     "output_type": "stream",
     "text": [
      "compressed features shape: (14984, 32)\n",
      "uncompressed features shape: (14984, 2048)\n"
     ]
    }
   ],
   "source": [
    "import numpy as np\n",
    "import json\n",
    "\n",
    "compressed_features = np.array([json.loads(data[1]) for data  in compressed_data])\n",
    "uncompressed_features = np.array([json.loads(data[1]) for data  in uncompressed_data])\n",
    "\n",
    "print('compressed features shape: ' + str(compressed_features.shape))\n",
    "print('uncompressed features shape: ' + str(uncompressed_features.shape))\n"
   ]
  },
  {
   "cell_type": "code",
   "execution_count": 1,
   "metadata": {},
   "outputs": [
    {
     "ename": "ModuleNotFoundError",
     "evalue": "No module named 'sklearn'",
     "output_type": "error",
     "traceback": [
      "\u001b[0;31m---------------------------------------------------------------------------\u001b[0m",
      "\u001b[0;31mModuleNotFoundError\u001b[0m                       Traceback (most recent call last)",
      "\u001b[0;32m<ipython-input-1-7e5f128e6716>\u001b[0m in \u001b[0;36m<module>\u001b[0;34m\u001b[0m\n\u001b[0;32m----> 1\u001b[0;31m \u001b[0;32mfrom\u001b[0m \u001b[0msklearn\u001b[0m\u001b[0;34m.\u001b[0m\u001b[0mneighbors\u001b[0m \u001b[0;32mimport\u001b[0m \u001b[0mNearestNeighbors\u001b[0m\u001b[0;34m\u001b[0m\u001b[0;34m\u001b[0m\u001b[0m\n\u001b[0m\u001b[1;32m      2\u001b[0m \u001b[0;34m\u001b[0m\u001b[0m\n\u001b[1;32m      3\u001b[0m \u001b[0mnn\u001b[0m \u001b[0;34m=\u001b[0m \u001b[0mNearestNeighbors\u001b[0m\u001b[0;34m(\u001b[0m\u001b[0mn_neighbors\u001b[0m\u001b[0;34m=\u001b[0m\u001b[0;36m200\u001b[0m\u001b[0;34m)\u001b[0m\u001b[0;34m\u001b[0m\u001b[0;34m\u001b[0m\u001b[0m\n\u001b[1;32m      4\u001b[0m \u001b[0;34m\u001b[0m\u001b[0m\n\u001b[1;32m      5\u001b[0m \u001b[0mcompressed_neighbours\u001b[0m \u001b[0;34m=\u001b[0m \u001b[0;34m[\u001b[0m\u001b[0mvalue\u001b[0m\u001b[0;34m.\u001b[0m\u001b[0mtolist\u001b[0m\u001b[0;34m(\u001b[0m\u001b[0;34m)\u001b[0m \u001b[0;32mfor\u001b[0m \u001b[0mvalue\u001b[0m \u001b[0;32min\u001b[0m \u001b[0mnn\u001b[0m\u001b[0;34m.\u001b[0m\u001b[0mfit\u001b[0m\u001b[0;34m(\u001b[0m\u001b[0mcompressed_features\u001b[0m\u001b[0;34m)\u001b[0m\u001b[0;34m.\u001b[0m\u001b[0mkneighbors\u001b[0m\u001b[0;34m(\u001b[0m\u001b[0;34m)\u001b[0m\u001b[0;34m]\u001b[0m\u001b[0;34m\u001b[0m\u001b[0;34m\u001b[0m\u001b[0m\n",
      "\u001b[0;31mModuleNotFoundError\u001b[0m: No module named 'sklearn'"
     ]
    }
   ],
   "source": [
    "from sklearn.neighbors import NearestNeighbors\n",
    "\n",
    "nn = NearestNeighbors(n_neighbors=100)\n",
    "\n",
    "compressed_neighbours = [value.tolist() for value in nn.fit(compressed_features).kneighbors()]\n",
    "uncompressed_neighbours = [value.tolist() for value in nn.fit(uncompressed_features).kneighbors()]\n"
   ]
  },
  {
   "cell_type": "code",
   "execution_count": 4,
   "metadata": {},
   "outputs": [],
   "source": [
    "con = mariadb.get_connection(\"127.0.0.1\", 3308, \"image_processing\", \"user\", \"user_pw\")\n",
    "\n",
    "for idx, (image_id, _feature) in enumerate(compressed_data):\n",
    "    \n",
    "    neighbour_ids = [compressed_data[i][0] for i in compressed_neighbours[1][idx]]\n",
    "    neighbour_distances = compressed_neighbours[0][idx]\n",
    "    mariadb.write_neighbours(\n",
    "        image_id, list(zip(neighbour_ids, neighbour_distances)), con\n",
    "    )\n",
    "    \n",
    "for idx, (image_id, _feature) in enumerate(uncompressed_data):\n",
    "    neighbour_ids = [uncompressed_data[i][0] for i in uncompressed_neighbours[1][idx]]\n",
    "    neighbour_distances = uncompressed_neighbours[0][idx]\n",
    "    \n",
    "    mariadb.write_uncompressed_neighbours(\n",
    "        image_id, list(zip(neighbour_ids, neighbour_distances)), con\n",
    "    )\n",
    "    \n",
    "con.close()\n"
   ]
  },
  {
   "cell_type": "code",
   "execution_count": null,
   "metadata": {},
   "outputs": [],
   "source": []
  }
 ],
 "metadata": {
  "kernelspec": {
   "display_name": "Python 3",
   "language": "python",
   "name": "python3"
  },
  "language_info": {
   "codemirror_mode": {
    "name": "ipython",
    "version": 3
   },
   "file_extension": ".py",
   "mimetype": "text/x-python",
   "name": "python",
   "nbconvert_exporter": "python",
   "pygments_lexer": "ipython3",
   "version": "3.7.2"
  },
  "pycharm": {
   "stem_cell": {
    "cell_type": "raw",
    "source": [],
    "metadata": {
     "collapsed": false
    }
   }
  }
 },
 "nbformat": 4,
 "nbformat_minor": 2
}