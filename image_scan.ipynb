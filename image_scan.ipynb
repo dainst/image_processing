{
 "cells": [
  {
   "cell_type": "code",
   "execution_count": 1,
   "metadata": {},
   "outputs": [
    {
     "name": "stdout",
     "output_type": "stream",
     "text": [
      "Collecting JPEGs in directory \"/mnt/idai_cloud\".\n",
      "1427486 images found.\n"
     ]
    }
   ],
   "source": [
    "import os\n",
    "\n",
    "data = []\n",
    "image_directory = \"/mnt/idai_cloud\"\n",
    "\n",
    "print(f'Collecting JPEGs in directory \"{image_directory}\".')\n",
    "for root, dirs, files in os.walk(image_directory):\n",
    "    for file in files:\n",
    "        if file.endswith('.jpg') or file.endswith('.jpeg') or file.endswith('.JPG') or file.endswith('JPEG'):\n",
    "            data.append((file, os.path.abspath(f'{root}/{file}'), None))\n",
    "\n",
    "print(f'{len(data)} images found.')"
   ]
  },
  {
   "cell_type": "code",
   "execution_count": 2,
   "metadata": {},
   "outputs": [],
   "source": [
    "from random import shuffle\n",
    "shuffle(data)\n"
   ]
  },
  {
   "cell_type": "code",
   "execution_count": 3,
   "metadata": {},
   "outputs": [
    {
     "name": "stdout",
     "output_type": "stream",
     "text": [
      "14275 images used.\n"
     ]
    }
   ],
   "source": [
    "# Reduce the amount of final images by taking only every 100th.\n",
    "data_filtered = data[::100]\n",
    "print(f'{len(data_filtered)} images used.')\n"
   ]
  },
  {
   "cell_type": "code",
   "execution_count": 4,
   "metadata": {},
   "outputs": [
    {
     "name": "stdout",
     "output_type": "stream",
     "text": [
      "Processing batches.\n",
      "  Trying to resolve Arachne URLs, this may take some time.\n",
      "  Processing batch 0 to 1000 of 14275.\n",
      "  Processing batch 1000 to 2000 of 14275.\n",
      "  Processing batch 2000 to 3000 of 14275.\n",
      "  Processing batch 3000 to 4000 of 14275.\n",
      "  Processing batch 4000 to 5000 of 14275.\n",
      "  Processing batch 5000 to 6000 of 14275.\n",
      "  Processing batch 6000 to 7000 of 14275.\n",
      "  Processing batch 7000 to 8000 of 14275.\n",
      "  Processing batch 8000 to 9000 of 14275.\n",
      "  Processing batch 9000 to 10000 of 14275.\n",
      "  Processing batch 10000 to 11000 of 14275.\n",
      "  Processing batch 11000 to 12000 of 14275.\n",
      "  Processing batch 12000 to 13000 of 14275.\n",
      "  Processing batch 13000 to 14000 of 14275.\n",
      "  Processing batch 14000 to 15000 of 14275.\n",
      "Done.\n"
     ]
    }
   ],
   "source": [
    "import db.mariadb as mariadb\n",
    "import json\n",
    "import MySQLdb._exceptions as mysql_exceptions\n",
    "from requests_futures.sessions import FuturesSession\n",
    "\n",
    "batch_counter = 0\n",
    "batch_size = 1000\n",
    "\n",
    "print('Processing batches.')\n",
    "print('  Trying to resolve Arachne URLs, this may take some time.')\n",
    "\n",
    "while batch_counter < len(data_filtered):\n",
    "\n",
    "    print(f\"  Processing batch {batch_counter} to {batch_counter+batch_size} of {len(data_filtered)}.\")\n",
    "    current_batch = data[batch_counter:batch_counter+batch_size]\n",
    "\n",
    "    session = FuturesSession(max_workers=10)\n",
    "\n",
    "    arachne_path = 'https://arachne.dainst.org/data'\n",
    "    futures = []\n",
    "    for (name, _path, _url) in current_batch:\n",
    "        futures.append(session.get(f'{arachne_path}/search?q={name}'))\n",
    "\n",
    "    for idx, response in enumerate(futures):\n",
    "\n",
    "        try:\n",
    "            entity_id = None\n",
    "            json_value = response.result().json()\n",
    "            if json_value['size'] == 1:\n",
    "                entity_id = json_value['entities'][0]['entityId']\n",
    "\n",
    "            if entity_id is not None:\n",
    "                current_batch[idx] = (current_batch[idx][0], current_batch[idx][1],\n",
    "                                      f'{arachne_path}/image/{entity_id}')\n",
    "        except json.decoder.JSONDecodeError as e:\n",
    "            print(e)\n",
    "            print(response)\n",
    "\n",
    "    con = mariadb.get_connection(\"127.0.0.1\", 3308, \"image_processing\", \"user\", \"user_pw\")\n",
    "    try:\n",
    "        mariadb.write_files_data(current_batch, con)\n",
    "    except mysql_exceptions.DataError as e:\n",
    "        print(e)\n",
    "    con.close()\n",
    "\n",
    "    batch_counter += batch_size\n",
    "\n",
    "print('Done.')\n"
   ]
  },
  {
   "cell_type": "code",
   "execution_count": null,
   "metadata": {},
   "outputs": [],
   "source": []
  }
 ],
 "metadata": {
  "kernelspec": {
   "display_name": "Python 3",
   "language": "python",
   "name": "python3"
  },
  "language_info": {
   "codemirror_mode": {
    "name": "ipython",
    "version": 3
   },
   "file_extension": ".py",
   "mimetype": "text/x-python",
   "name": "python",
   "nbconvert_exporter": "python",
   "pygments_lexer": "ipython3",
   "version": "3.7.2"
  }
 },
 "nbformat": 4,
 "nbformat_minor": 2
}
