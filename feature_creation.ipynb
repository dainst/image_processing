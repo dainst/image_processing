{
 "cells": [
  {
   "cell_type": "code",
   "execution_count": 1,
   "metadata": {},
   "outputs": [
    {
     "name": "stderr",
     "output_type": "stream",
     "text": [
      "Using TensorFlow backend.\n"
     ]
    },
    {
     "name": "stdout",
     "output_type": "stream",
     "text": [
      "Loading models...\n",
      "WARNING:tensorflow:From /usr/lib/python3.7/site-packages/tensorflow/python/framework/op_def_library.py:263: colocate_with (from tensorflow.python.framework.ops) is deprecated and will be removed in a future version.\n",
      "Instructions for updating:\n",
      "Colocations handled automatically by placer.\n",
      "Combining models...\n"
     ]
    },
    {
     "name": "stderr",
     "output_type": "stream",
     "text": [
      "/usr/lib/python3.7/site-packages/keras/engine/saving.py:292: UserWarning: No training configuration found in save file: the model was *not* compiled. Compile it manually.\n",
      "  warnings.warn('No training configuration found in save file: '\n"
     ]
    }
   ],
   "source": [
    "# RUN AUTOENCODER JUPYTER NOTEBOOK FIRST, this will create the `encoder.h5` file used below\n",
    "\n",
    "import keras\n",
    "from keras.models import load_model\n",
    "\n",
    "from keras.models import Model\n",
    "\n",
    "print(\"Loading models...\")\n",
    "\n",
    "res_net = keras.applications.resnet50.ResNet50(include_top=False, pooling='avg')\n",
    "\n",
    "encoder = load_model('encoder.h5')\n",
    "\n",
    "print(\"Combining models...\")\n",
    "combined = Model(inputs=res_net.input, outputs=encoder(res_net.output))\n"
   ]
  },
  {
   "cell_type": "code",
   "execution_count": null,
   "metadata": {},
   "outputs": [
    {
     "name": "stdout",
     "output_type": "stream",
     "text": [
      "Sampling data...\n",
      "Creating image features using combined model.\n"
     ]
    }
   ],
   "source": [
    "import db.mariadb as mariadb\n",
    "import numpy as np\n",
    "\n",
    "from keras.preprocessing import image\n",
    "from keras.applications.resnet50 import preprocess_input\n",
    "from PIL.Image import DecompressionBombError\n",
    "# Change according to your database setup (these are the defaults, see .env file)\n",
    "\n",
    "print(\"Sampling data...\")\n",
    "con = mariadb.get_connection(\"127.0.0.1\", 3308, \"image_processing\", \"user\", \"user_pw\")\n",
    "\n",
    "files_batch = mariadb.get_files_data(0, 800000, con)\n",
    "\n",
    "\n",
    "# Use every 500th image of the 800000\n",
    "files_batch = files_batch[::500]\n",
    "features = []\n",
    "features_info = []\n",
    "\n",
    "# Create training and test features\n",
    "print(\"Creating image features using combined model.\")\n",
    "counter = 1\n",
    "for (img_id, name, path, url) in files_batch:\n",
    "    try:\n",
    "        img = image.load_img(path, target_size=(224, 224))\n",
    "        img_data = image.img_to_array(img)\n",
    "        img_data = np.expand_dims(img_data, axis=0)\n",
    "        img_data = preprocess_input(img_data)\n",
    "        \n",
    "        combined_feature = combined.predict(img_data)\n",
    "        combined_feature = np.array(combined_feature).flatten()\n",
    "        \n",
    "        res_net_feature = res_net.predict(img_data)\n",
    "        res_net_feature = np.array(res_net_feature).flatten()\n",
    "        \n",
    "        mariadb.write_file_features(img_id, combined_feature, con)\n",
    "        mariadb.write_uncompressed_file_features(img_id, res_net_feature, con)\n",
    "\n",
    "        counter += 1\n",
    "\n",
    "    except OSError as e:\n",
    "        print(e)\n",
    "    except DecompressionBombError as e:\n",
    "        print(e)\n",
    "        print(path)\n",
    "        \n",
    "con.close()"
   ]
  },
  {
   "cell_type": "code",
   "execution_count": null,
   "metadata": {},
   "outputs": [],
   "source": []
  }
 ],
 "metadata": {
  "kernelspec": {
   "display_name": "Python 3",
   "language": "python",
   "name": "python3"
  },
  "language_info": {
   "codemirror_mode": {
    "name": "ipython",
    "version": 3
   },
   "file_extension": ".py",
   "mimetype": "text/x-python",
   "name": "python",
   "nbconvert_exporter": "python",
   "pygments_lexer": "ipython3",
   "version": "3.7.2"
  }
 },
 "nbformat": 4,
 "nbformat_minor": 2
}
