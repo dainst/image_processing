{
 "cells": [
  {
   "cell_type": "code",
   "execution_count": 1,
   "metadata": {},
   "outputs": [
    {
     "name": "stderr",
     "output_type": "stream",
     "text": [
      "Using TensorFlow backend.\n"
     ]
    },
    {
     "name": "stdout",
     "output_type": "stream",
     "text": [
      "Loading models...\n",
      "WARNING:tensorflow:From /usr/lib/python3.7/site-packages/tensorflow/python/framework/op_def_library.py:263: colocate_with (from tensorflow.python.framework.ops) is deprecated and will be removed in a future version.\n",
      "Instructions for updating:\n",
      "Colocations handled automatically by placer.\n",
      "Combining models...\n"
     ]
    },
    {
     "name": "stderr",
     "output_type": "stream",
     "text": [
      "/usr/lib/python3.7/site-packages/keras/engine/saving.py:292: UserWarning: No training configuration found in save file: the model was *not* compiled. Compile it manually.\n",
      "  warnings.warn('No training configuration found in save file: '\n"
     ]
    }
   ],
   "source": [
    "# RUN AUTOENCODER JUPYTER NOTEBOOK FIRST, this will create the `encoder.h5` file used below\n",
    "\n",
    "import keras\n",
    "from keras.models import load_model\n",
    "\n",
    "from keras.models import Model\n",
    "\n",
    "print(\"Loading models...\")\n",
    "\n",
    "res_net = keras.applications.resnet50.ResNet50(include_top=False, pooling='avg')\n",
    "\n",
    "encoder = load_model('model/encoder.h5')\n",
    "\n",
    "print(\"Combining models...\")\n",
    "combined = Model(inputs=res_net.input, outputs=encoder(res_net.output))\n"
   ]
  },
  {
   "cell_type": "code",
   "execution_count": 2,
   "metadata": {},
   "outputs": [],
   "source": [
    "import db.mariadb as mariadb\n",
    "import numpy as np\n",
    "\n",
    "from keras.preprocessing import image\n",
    "from keras.applications.resnet50 import preprocess_input\n",
    "from PIL.Image import DecompressionBombError\n",
    "# Change according to your database setup (these are the defaults, see .env file)\n",
    "\n",
    "con = mariadb.get_connection(\"127.0.0.1\", 3308, \"image_processing\", \"user\", \"user_pw\")\n",
    "\n",
    "files_batch = mariadb.get_all_files_data(con)\n"
   ]
  },
  {
   "cell_type": "code",
   "execution_count": 3,
   "metadata": {},
   "outputs": [
    {
     "name": "stdout",
     "output_type": "stream",
     "text": [
      "Creating image features using combined model.\n",
      "Progress: 100/15000\n",
      "Progress: 200/15000\n",
      "Progress: 300/15000\n",
      "Progress: 400/15000\n",
      "Progress: 500/15000\n",
      "Progress: 600/15000\n",
      "Progress: 700/15000\n",
      "Progress: 800/15000\n",
      "Progress: 900/15000\n",
      "Progress: 1000/15000\n",
      "Progress: 1100/15000\n",
      "Progress: 1200/15000\n",
      "Progress: 1300/15000\n",
      "Progress: 1400/15000\n",
      "Progress: 1500/15000\n",
      "Progress: 1600/15000\n",
      "Progress: 1700/15000\n",
      "Progress: 1800/15000\n",
      "Progress: 1900/15000\n",
      "Progress: 2000/15000\n",
      "Progress: 2100/15000\n",
      "Progress: 2200/15000\n",
      "Progress: 2300/15000\n",
      "Progress: 2400/15000\n",
      "Progress: 2500/15000\n",
      "Image size (207616860 pixels) exceeds limit of 178956970 pixels, could be decompression bomb DOS attack.\n",
      "/mnt/idai_cloud/dai-rom-fotothek-2007/Bestand-D-DAI-ROM-2007.5572.JPG\n",
      "Progress: 2600/15000\n",
      "Progress: 2700/15000\n",
      "Progress: 2800/15000\n",
      "Progress: 2900/15000\n",
      "Progress: 3000/15000\n",
      "cannot identify image file '/mnt/idai_cloud/dai-rom-fotothek-2003/Bestand-D-DAI-ROM-2003.0636.JPG'\n",
      "cannot identify image file '/mnt/idai_cloud/dai-rom-fotothek-2003/Bestand-D-DAI-ROM-2003.0406.JPG'\n",
      "Progress: 3100/15000\n",
      "Progress: 3200/15000\n",
      "Progress: 3300/15000\n",
      "Progress: 3400/15000\n",
      "cannot identify image file '/mnt/idai_cloud/FADatenbankabb0575/D-DAI-ROM-42.507R_56426,01.jpg'\n",
      "Progress: 3500/15000\n",
      "Progress: 3600/15000\n",
      "Progress: 3700/15000\n",
      "Progress: 3800/15000\n",
      "cannot identify image file '/mnt/idai_cloud/FADatenbankabb0575/D-DAI-ROM-56.998_002922504,02.jpg'\n",
      "cannot identify image file '/mnt/idai_cloud/dai-rom-fotothek-2003/Bestand-D-DAI-ROM-2003.0127.JPG'\n",
      "Progress: 3900/15000\n",
      "Progress: 4000/15000\n",
      "Progress: 4100/15000\n",
      "Progress: 4200/15000\n",
      "cannot identify image file '/mnt/idai_cloud/dai-rom-fotothek-2003/Bestand-D-DAI-ROM-2003.0442.JPG'\n",
      "Progress: 4300/15000\n",
      "Progress: 4400/15000\n",
      "Progress: 4500/15000\n",
      "Progress: 4600/15000\n"
     ]
    },
    {
     "name": "stderr",
     "output_type": "stream",
     "text": [
      "/usr/lib/python3.7/site-packages/PIL/Image.py:2600: DecompressionBombWarning: Image size (124167394 pixels) exceeds limit of 89478485 pixels, could be decompression bomb DOS attack.\n",
      "  DecompressionBombWarning)\n"
     ]
    },
    {
     "name": "stdout",
     "output_type": "stream",
     "text": [
      "Progress: 4700/15000\n",
      "Progress: 4800/15000\n",
      "Progress: 4900/15000\n",
      "cannot identify image file '/mnt/idai_cloud/FADatenbankabb0577/D-DAI-ROM-71.623R_14505.jpg'\n"
     ]
    },
    {
     "name": "stderr",
     "output_type": "stream",
     "text": [
      "/usr/lib/python3.7/site-packages/PIL/Image.py:2600: DecompressionBombWarning: Image size (105211691 pixels) exceeds limit of 89478485 pixels, could be decompression bomb DOS attack.\n",
      "  DecompressionBombWarning)\n"
     ]
    },
    {
     "name": "stdout",
     "output_type": "stream",
     "text": [
      "Progress: 5000/15000\n",
      "Progress: 5100/15000\n",
      "Progress: 5200/15000\n",
      "Progress: 5300/15000\n",
      "Progress: 5400/15000\n"
     ]
    },
    {
     "name": "stderr",
     "output_type": "stream",
     "text": [
      "/usr/lib/python3.7/site-packages/PIL/Image.py:2600: DecompressionBombWarning: Image size (133441175 pixels) exceeds limit of 89478485 pixels, could be decompression bomb DOS attack.\n",
      "  DecompressionBombWarning)\n"
     ]
    },
    {
     "name": "stdout",
     "output_type": "stream",
     "text": [
      "Progress: 5500/15000\n",
      "Progress: 5600/15000\n",
      "Progress: 5700/15000\n",
      "Progress: 5800/15000\n",
      "cannot identify image file '/mnt/idai_cloud/FADatenbankabb0576/D-DAI-ROM-62.1474_130217.jpg'\n",
      "Progress: 5900/15000\n",
      "Progress: 6000/15000\n",
      "Progress: 6100/15000\n",
      "Progress: 6200/15000\n",
      "Progress: 6300/15000\n",
      "Progress: 6400/15000\n",
      "Progress: 6500/15000\n",
      "Progress: 6600/15000\n",
      "Progress: 6700/15000\n",
      "Progress: 6800/15000\n",
      "Progress: 6900/15000\n",
      "Progress: 7000/15000\n",
      "Progress: 7100/15000\n",
      "Progress: 7200/15000\n",
      "Progress: 7300/15000\n"
     ]
    },
    {
     "name": "stderr",
     "output_type": "stream",
     "text": [
      "/usr/lib/python3.7/site-packages/PIL/Image.py:2600: DecompressionBombWarning: Image size (136193850 pixels) exceeds limit of 89478485 pixels, could be decompression bomb DOS attack.\n",
      "  DecompressionBombWarning)\n"
     ]
    },
    {
     "name": "stdout",
     "output_type": "stream",
     "text": [
      "Progress: 7400/15000\n",
      "Progress: 7500/15000\n",
      "Progress: 7600/15000\n",
      "Progress: 7700/15000\n"
     ]
    },
    {
     "name": "stderr",
     "output_type": "stream",
     "text": [
      "/usr/lib/python3.7/site-packages/PIL/Image.py:2600: DecompressionBombWarning: Image size (97257268 pixels) exceeds limit of 89478485 pixels, could be decompression bomb DOS attack.\n",
      "  DecompressionBombWarning)\n"
     ]
    },
    {
     "name": "stdout",
     "output_type": "stream",
     "text": [
      "Progress: 7800/15000\n",
      "Progress: 7900/15000\n",
      "Progress: 8000/15000\n",
      "Progress: 8100/15000\n",
      "Progress: 8200/15000\n",
      "Progress: 8300/15000\n",
      "Progress: 8400/15000\n",
      "Progress: 8500/15000\n",
      "Progress: 8600/15000\n",
      "cannot identify image file '/mnt/idai_cloud/dai-rom-fotothek-2003/Bestand-D-DAI-ROM-2003.0270.JPG'\n",
      "Progress: 8700/15000\n",
      "Progress: 8800/15000\n",
      "Progress: 8900/15000\n",
      "Progress: 9000/15000\n",
      "cannot identify image file '/mnt/idai_cloud/dai-rom-fotothek-2003/Bestand-D-DAI-ROM-2003.0672.JPG'\n",
      "Progress: 9100/15000\n",
      "Progress: 9200/15000\n",
      "Progress: 9300/15000\n"
     ]
    },
    {
     "name": "stderr",
     "output_type": "stream",
     "text": [
      "/usr/lib/python3.7/site-packages/PIL/Image.py:2600: DecompressionBombWarning: Image size (144643345 pixels) exceeds limit of 89478485 pixels, could be decompression bomb DOS attack.\n",
      "  DecompressionBombWarning)\n"
     ]
    },
    {
     "name": "stdout",
     "output_type": "stream",
     "text": [
      "Progress: 9400/15000\n",
      "Progress: 9500/15000\n",
      "Progress: 9600/15000\n",
      "Progress: 9700/15000\n",
      "Progress: 9800/15000\n",
      "Progress: 9900/15000\n",
      "Progress: 10000/15000\n",
      "Progress: 10100/15000\n",
      "cannot identify image file '/mnt/idai_cloud/dai-rom-fotothek-2003/Bestand-D-DAI-ROM-2003.0188.JPG'\n",
      "Progress: 10200/15000\n",
      "Progress: 10300/15000\n",
      "Progress: 10400/15000\n",
      "Progress: 10500/15000\n",
      "cannot identify image file '/mnt/idai_cloud/dai-rom-fotothek-2003/Bestand-D-DAI-ROM-2003.0095.JPG'\n",
      "Progress: 10600/15000\n",
      "Progress: 10700/15000\n",
      "Progress: 10800/15000\n",
      "Progress: 10900/15000\n",
      "Progress: 11000/15000\n",
      "Progress: 11100/15000\n",
      "Progress: 11200/15000\n",
      "Progress: 11300/15000\n",
      "Progress: 11400/15000\n",
      "Progress: 11500/15000\n",
      "Progress: 11600/15000\n",
      "Progress: 11700/15000\n",
      "Progress: 11800/15000\n",
      "Progress: 11900/15000\n",
      "Progress: 12000/15000\n",
      "Progress: 12100/15000\n",
      "Progress: 12200/15000\n",
      "Progress: 12300/15000\n",
      "Progress: 12400/15000\n",
      "Progress: 12500/15000\n",
      "Progress: 12600/15000\n",
      "Progress: 12700/15000\n",
      "cannot identify image file '/mnt/idai_cloud/FADatenbankabb0700d/Mal000-0_0002624104,03.jpg'\n",
      "Progress: 12800/15000\n",
      "Progress: 12900/15000\n",
      "Progress: 13000/15000\n",
      "Progress: 13100/15000\n",
      "Progress: 13200/15000\n",
      "Progress: 13300/15000\n",
      "cannot identify image file '/mnt/idai_cloud/dai-rom-fotothek-2003/Bestand-D-DAI-ROM-2003.0663.JPG'\n",
      "Progress: 13400/15000\n",
      "Progress: 13500/15000\n",
      "cannot identify image file '/mnt/idai_cloud/FADatenbankabb0577/D-DAI-ROM-71.623R_402540.jpg'\n",
      "Progress: 13600/15000\n",
      "Progress: 13700/15000\n",
      "Progress: 13800/15000\n",
      "Progress: 13900/15000\n",
      "Progress: 14000/15000\n",
      "Progress: 14100/15000\n",
      "Progress: 14200/15000\n",
      "Progress: 14300/15000\n",
      "Progress: 14400/15000\n",
      "Progress: 14500/15000\n",
      "Progress: 14600/15000\n",
      "Progress: 14700/15000\n",
      "Progress: 14800/15000\n",
      "Progress: 14900/15000\n"
     ]
    }
   ],
   "source": [
    "features = []\n",
    "features_info = []\n",
    "\n",
    "# Create training and test features\n",
    "print(\"Creating image features using both models.\")\n",
    "counter = 1\n",
    "\n",
    "for (img_id, name, path, url) in files_batch:\n",
    "    try:\n",
    "        if(counter % 100 == 0):\n",
    "            print(f'Progress: {counter}/{len(files_batch)}')\n",
    "        \n",
    "        img = image.load_img(path, target_size=(224, 224))\n",
    "        img_data = image.img_to_array(img)\n",
    "        img_data = np.expand_dims(img_data, axis=0)\n",
    "        img_data = preprocess_input(img_data)\n",
    "        \n",
    "        combined_feature = combined.predict(img_data)\n",
    "        combined_feature = np.array(combined_feature).flatten()\n",
    "        \n",
    "        res_net_feature = res_net.predict(img_data)\n",
    "        res_net_feature = np.array(res_net_feature).flatten()\n",
    "        \n",
    "        mariadb.write_file_features(img_id, combined_feature, con)\n",
    "        mariadb.write_uncompressed_file_features(img_id, res_net_feature, con)\n",
    "\n",
    "        counter += 1\n",
    "\n",
    "    except OSError as e:\n",
    "        print(e)\n",
    "    except DecompressionBombError as e:\n",
    "        print(e)\n",
    "        print(path)\n",
    "        \n",
    "con.close()\n",
    "print('Done.')\n"
   ]
  }
 ],
 "metadata": {
  "kernelspec": {
   "display_name": "Python 3",
   "language": "python",
   "name": "python3"
  },
  "language_info": {
   "codemirror_mode": {
    "name": "ipython",
    "version": 3
   },
   "file_extension": ".py",
   "mimetype": "text/x-python",
   "name": "python",
   "nbconvert_exporter": "python",
   "pygments_lexer": "ipython3",
   "version": "3.7.2"
  },
  "pycharm": {
   "stem_cell": {
    "cell_type": "raw",
    "source": [],
    "metadata": {
     "collapsed": false
    }
   }
  }
 },
 "nbformat": 4,
 "nbformat_minor": 2
}